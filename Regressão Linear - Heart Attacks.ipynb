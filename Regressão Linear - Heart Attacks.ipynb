{
 "cells": [
  {
   "cell_type": "markdown",
   "id": "excess-vatican",
   "metadata": {},
   "source": [
    "# Introdução\n",
    "#### Tendo em vista que ja foi explicado o conceito da Regressão Linear (https://github.com/IuryChagas25/Linear_Regression) e para que ela é usada hoje em dia, neste notebook iremos aplicar de uma forma mais prática esse conceito com um pequeno data set de Heart Attacks, onde poderemos mensurar uma probabilidade de um indivíduo sofrer um ataque cardiaco, baseando-se em uma base de dados."
   ]
  },
  {
   "cell_type": "code",
   "execution_count": 66,
   "id": "confidential-barbados",
   "metadata": {},
   "outputs": [],
   "source": [
    "import pandas as pd\n",
    "from sklearn.linear_model import LinearRegression\n",
    "from sklearn.model_selection import train_test_split\n",
    "from sklearn.metrics import mean_absolute_error, mean_squared_error"
   ]
  },
  {
   "cell_type": "code",
   "execution_count": 67,
   "id": "behavioral-algeria",
   "metadata": {},
   "outputs": [],
   "source": [
    "data = pd.read_csv('heart.csv')   #importatando a tabela .csv para o notebook"
   ]
  },
  {
   "cell_type": "markdown",
   "id": "contemporary-repository",
   "metadata": {},
   "source": [
    "#### É importante que você ja conheça algumas ideias básicas sobre o pandas, caso não tenha nenhuma noção, há um repositório sobre as noções básicas dessa biblioteca.\n",
    "*link: https://github.com/IuryChagas25/tutorial_sobre_pandas*"
   ]
  },
  {
   "cell_type": "code",
   "execution_count": 121,
   "id": "natural-simulation",
   "metadata": {},
   "outputs": [
    {
     "data": {
      "text/html": [
       "<div>\n",
       "<style scoped>\n",
       "    .dataframe tbody tr th:only-of-type {\n",
       "        vertical-align: middle;\n",
       "    }\n",
       "\n",
       "    .dataframe tbody tr th {\n",
       "        vertical-align: top;\n",
       "    }\n",
       "\n",
       "    .dataframe thead th {\n",
       "        text-align: right;\n",
       "    }\n",
       "</style>\n",
       "<table border=\"1\" class=\"dataframe\">\n",
       "  <thead>\n",
       "    <tr style=\"text-align: right;\">\n",
       "      <th></th>\n",
       "      <th>age</th>\n",
       "      <th>sex</th>\n",
       "      <th>cp</th>\n",
       "      <th>trtbps</th>\n",
       "      <th>chol</th>\n",
       "      <th>fbs</th>\n",
       "      <th>restecg</th>\n",
       "      <th>thalachh</th>\n",
       "      <th>exng</th>\n",
       "      <th>oldpeak</th>\n",
       "      <th>slp</th>\n",
       "      <th>caa</th>\n",
       "      <th>thall</th>\n",
       "      <th>output</th>\n",
       "    </tr>\n",
       "  </thead>\n",
       "  <tbody>\n",
       "    <tr>\n",
       "      <th>0</th>\n",
       "      <td>63</td>\n",
       "      <td>1</td>\n",
       "      <td>3</td>\n",
       "      <td>145</td>\n",
       "      <td>233</td>\n",
       "      <td>1</td>\n",
       "      <td>0</td>\n",
       "      <td>150</td>\n",
       "      <td>0</td>\n",
       "      <td>2.3</td>\n",
       "      <td>0</td>\n",
       "      <td>0</td>\n",
       "      <td>1</td>\n",
       "      <td>1</td>\n",
       "    </tr>\n",
       "    <tr>\n",
       "      <th>1</th>\n",
       "      <td>37</td>\n",
       "      <td>1</td>\n",
       "      <td>2</td>\n",
       "      <td>130</td>\n",
       "      <td>250</td>\n",
       "      <td>0</td>\n",
       "      <td>1</td>\n",
       "      <td>187</td>\n",
       "      <td>0</td>\n",
       "      <td>3.5</td>\n",
       "      <td>0</td>\n",
       "      <td>0</td>\n",
       "      <td>2</td>\n",
       "      <td>1</td>\n",
       "    </tr>\n",
       "    <tr>\n",
       "      <th>2</th>\n",
       "      <td>41</td>\n",
       "      <td>0</td>\n",
       "      <td>1</td>\n",
       "      <td>130</td>\n",
       "      <td>204</td>\n",
       "      <td>0</td>\n",
       "      <td>0</td>\n",
       "      <td>172</td>\n",
       "      <td>0</td>\n",
       "      <td>1.4</td>\n",
       "      <td>2</td>\n",
       "      <td>0</td>\n",
       "      <td>2</td>\n",
       "      <td>1</td>\n",
       "    </tr>\n",
       "    <tr>\n",
       "      <th>3</th>\n",
       "      <td>56</td>\n",
       "      <td>1</td>\n",
       "      <td>1</td>\n",
       "      <td>120</td>\n",
       "      <td>236</td>\n",
       "      <td>0</td>\n",
       "      <td>1</td>\n",
       "      <td>178</td>\n",
       "      <td>0</td>\n",
       "      <td>0.8</td>\n",
       "      <td>2</td>\n",
       "      <td>0</td>\n",
       "      <td>2</td>\n",
       "      <td>1</td>\n",
       "    </tr>\n",
       "    <tr>\n",
       "      <th>4</th>\n",
       "      <td>57</td>\n",
       "      <td>0</td>\n",
       "      <td>0</td>\n",
       "      <td>120</td>\n",
       "      <td>354</td>\n",
       "      <td>0</td>\n",
       "      <td>1</td>\n",
       "      <td>163</td>\n",
       "      <td>1</td>\n",
       "      <td>0.6</td>\n",
       "      <td>2</td>\n",
       "      <td>0</td>\n",
       "      <td>2</td>\n",
       "      <td>1</td>\n",
       "    </tr>\n",
       "    <tr>\n",
       "      <th>...</th>\n",
       "      <td>...</td>\n",
       "      <td>...</td>\n",
       "      <td>...</td>\n",
       "      <td>...</td>\n",
       "      <td>...</td>\n",
       "      <td>...</td>\n",
       "      <td>...</td>\n",
       "      <td>...</td>\n",
       "      <td>...</td>\n",
       "      <td>...</td>\n",
       "      <td>...</td>\n",
       "      <td>...</td>\n",
       "      <td>...</td>\n",
       "      <td>...</td>\n",
       "    </tr>\n",
       "    <tr>\n",
       "      <th>298</th>\n",
       "      <td>57</td>\n",
       "      <td>0</td>\n",
       "      <td>0</td>\n",
       "      <td>140</td>\n",
       "      <td>241</td>\n",
       "      <td>0</td>\n",
       "      <td>1</td>\n",
       "      <td>123</td>\n",
       "      <td>1</td>\n",
       "      <td>0.2</td>\n",
       "      <td>1</td>\n",
       "      <td>0</td>\n",
       "      <td>3</td>\n",
       "      <td>0</td>\n",
       "    </tr>\n",
       "    <tr>\n",
       "      <th>299</th>\n",
       "      <td>45</td>\n",
       "      <td>1</td>\n",
       "      <td>3</td>\n",
       "      <td>110</td>\n",
       "      <td>264</td>\n",
       "      <td>0</td>\n",
       "      <td>1</td>\n",
       "      <td>132</td>\n",
       "      <td>0</td>\n",
       "      <td>1.2</td>\n",
       "      <td>1</td>\n",
       "      <td>0</td>\n",
       "      <td>3</td>\n",
       "      <td>0</td>\n",
       "    </tr>\n",
       "    <tr>\n",
       "      <th>300</th>\n",
       "      <td>68</td>\n",
       "      <td>1</td>\n",
       "      <td>0</td>\n",
       "      <td>144</td>\n",
       "      <td>193</td>\n",
       "      <td>1</td>\n",
       "      <td>1</td>\n",
       "      <td>141</td>\n",
       "      <td>0</td>\n",
       "      <td>3.4</td>\n",
       "      <td>1</td>\n",
       "      <td>2</td>\n",
       "      <td>3</td>\n",
       "      <td>0</td>\n",
       "    </tr>\n",
       "    <tr>\n",
       "      <th>301</th>\n",
       "      <td>57</td>\n",
       "      <td>1</td>\n",
       "      <td>0</td>\n",
       "      <td>130</td>\n",
       "      <td>131</td>\n",
       "      <td>0</td>\n",
       "      <td>1</td>\n",
       "      <td>115</td>\n",
       "      <td>1</td>\n",
       "      <td>1.2</td>\n",
       "      <td>1</td>\n",
       "      <td>1</td>\n",
       "      <td>3</td>\n",
       "      <td>0</td>\n",
       "    </tr>\n",
       "    <tr>\n",
       "      <th>302</th>\n",
       "      <td>57</td>\n",
       "      <td>0</td>\n",
       "      <td>1</td>\n",
       "      <td>130</td>\n",
       "      <td>236</td>\n",
       "      <td>0</td>\n",
       "      <td>0</td>\n",
       "      <td>174</td>\n",
       "      <td>0</td>\n",
       "      <td>0.0</td>\n",
       "      <td>1</td>\n",
       "      <td>1</td>\n",
       "      <td>2</td>\n",
       "      <td>0</td>\n",
       "    </tr>\n",
       "  </tbody>\n",
       "</table>\n",
       "<p>303 rows × 14 columns</p>\n",
       "</div>"
      ],
      "text/plain": [
       "     age  sex  cp  trtbps  chol  fbs  restecg  thalachh  exng  oldpeak  slp  \\\n",
       "0     63    1   3     145   233    1        0       150     0      2.3    0   \n",
       "1     37    1   2     130   250    0        1       187     0      3.5    0   \n",
       "2     41    0   1     130   204    0        0       172     0      1.4    2   \n",
       "3     56    1   1     120   236    0        1       178     0      0.8    2   \n",
       "4     57    0   0     120   354    0        1       163     1      0.6    2   \n",
       "..   ...  ...  ..     ...   ...  ...      ...       ...   ...      ...  ...   \n",
       "298   57    0   0     140   241    0        1       123     1      0.2    1   \n",
       "299   45    1   3     110   264    0        1       132     0      1.2    1   \n",
       "300   68    1   0     144   193    1        1       141     0      3.4    1   \n",
       "301   57    1   0     130   131    0        1       115     1      1.2    1   \n",
       "302   57    0   1     130   236    0        0       174     0      0.0    1   \n",
       "\n",
       "     caa  thall  output  \n",
       "0      0      1       1  \n",
       "1      0      2       1  \n",
       "2      0      2       1  \n",
       "3      0      2       1  \n",
       "4      0      2       1  \n",
       "..   ...    ...     ...  \n",
       "298    0      3       0  \n",
       "299    0      3       0  \n",
       "300    2      3       0  \n",
       "301    1      3       0  \n",
       "302    1      2       0  \n",
       "\n",
       "[303 rows x 14 columns]"
      ]
     },
     "execution_count": 121,
     "metadata": {},
     "output_type": "execute_result"
    }
   ],
   "source": [
    "data                          "
   ]
  },
  {
   "cell_type": "code",
   "execution_count": 98,
   "id": "digital-pasta",
   "metadata": {},
   "outputs": [],
   "source": [
    "x = data.iloc[:,0:12].values                #Selecionando todas as linhas da coluna 0 até a coluna 12\n",
    "y = data.iloc[:,13].values                  #Selecionando todas as linhas da coluna 13 (output)\n",
    "testando = data.iloc[0:4,0:12].values       #Selecionando uma fração desses dados para mensurar uma acurácia mais a frente"
   ]
  },
  {
   "cell_type": "markdown",
   "id": "promising-daisy",
   "metadata": {},
   "source": [
    "#### É de extrema importancia utilizar o train_test_split, com ele você irá fracionar sua base de dados em conjuntos de teste e treinamento, para que o modelo de regressão linear possa ser validado. Em test_size deve-se colocar a porcentagem de dados para teste, ou seja, os que serão usados para medir sua precisão, portanto, se você seleciona 0.2 está disponibilizando 80% de sua base de dados para treinamento, o que é ótimo nos casos mais gerais. É importante também randomizar a sua output, do contrário, seu modelo se adequara apenas a um tipo de previsão, utilize um random_state que forneça uma melhor adaptação."
   ]
  },
  {
   "cell_type": "code",
   "execution_count": 99,
   "id": "unlimited-plane",
   "metadata": {},
   "outputs": [],
   "source": [
    "x_teste, x_treinamento,y_teste, y_treinamento = train_test_split(x,y, test_size = 0.2, random_state=5) "
   ]
  },
  {
   "cell_type": "code",
   "execution_count": 100,
   "id": "endless-venezuela",
   "metadata": {},
   "outputs": [
    {
     "data": {
      "text/plain": [
       "array([0, 0, 1, 1, 1, 0, 1, 1, 0, 0, 0, 1, 0, 0, 1, 0, 1, 1, 1, 1, 1, 1,\n",
       "       0, 1, 1, 0, 0, 1, 0, 1, 1, 1, 0, 0, 1, 1, 1, 0, 1, 0, 1, 0, 1, 0,\n",
       "       0, 1, 0, 0, 1, 1, 0, 1, 0, 1, 1, 1, 0, 1, 1, 1, 1, 1, 0, 1, 0, 1,\n",
       "       0, 0, 0, 0, 1, 0, 1, 0, 0, 1, 0, 1, 0, 1, 1, 1, 0, 0, 0, 1, 0, 0,\n",
       "       1, 0, 1, 1, 1, 0, 1, 1, 0, 1, 1, 1, 0, 0, 1, 0, 1, 1, 1, 1, 1, 0,\n",
       "       0, 1, 1, 0, 0, 1, 0, 0, 0, 1, 1, 0, 1, 0, 0, 0, 1, 0, 1, 0, 1, 1,\n",
       "       1, 1, 1, 1, 0, 1, 1, 1, 0, 1, 1, 1, 1, 1, 1, 0, 0, 0, 1, 0, 1, 0,\n",
       "       0, 0, 0, 1, 0, 0, 0, 1, 0, 0, 0, 1, 1, 0, 0, 1, 0, 0, 1, 1, 0, 0,\n",
       "       0, 0, 1, 1, 0, 0, 1, 1, 0, 1, 1, 1, 1, 0, 1, 1, 1, 0, 1, 0, 1, 1,\n",
       "       0, 0, 0, 1, 1, 0, 1, 1, 0, 0, 0, 1, 1, 0, 1, 1, 1, 0, 1, 1, 0, 1,\n",
       "       1, 1, 1, 1, 0, 0, 1, 1, 1, 1, 0, 1, 0, 1, 1, 0, 0, 1, 1, 1, 0, 0],\n",
       "      dtype=int64)"
      ]
     },
     "execution_count": 100,
     "metadata": {},
     "output_type": "execute_result"
    }
   ],
   "source": [
    "y_teste"
   ]
  },
  {
   "cell_type": "code",
   "execution_count": 101,
   "id": "clear-adaptation",
   "metadata": {},
   "outputs": [
    {
     "data": {
      "text/plain": [
       "array([[ 63. ,   1. ,   3. , 145. , 233. ,   1. ,   0. , 150. ,   0. ,\n",
       "          2.3,   0. ,   0. ],\n",
       "       [ 37. ,   1. ,   2. , 130. , 250. ,   0. ,   1. , 187. ,   0. ,\n",
       "          3.5,   0. ,   0. ],\n",
       "       [ 41. ,   0. ,   1. , 130. , 204. ,   0. ,   0. , 172. ,   0. ,\n",
       "          1.4,   2. ,   0. ],\n",
       "       [ 56. ,   1. ,   1. , 120. , 236. ,   0. ,   1. , 178. ,   0. ,\n",
       "          0.8,   2. ,   0. ]])"
      ]
     },
     "execution_count": 101,
     "metadata": {},
     "output_type": "execute_result"
    }
   ],
   "source": [
    "testando"
   ]
  },
  {
   "cell_type": "code",
   "execution_count": 129,
   "id": "focal-mechanics",
   "metadata": {},
   "outputs": [],
   "source": [
    "regressao = LinearRegression()       #Declarando variável para o LinearRegression"
   ]
  },
  {
   "cell_type": "code",
   "execution_count": 103,
   "id": "owned-hardware",
   "metadata": {},
   "outputs": [
    {
     "data": {
      "text/plain": [
       "LinearRegression()"
      ]
     },
     "execution_count": 103,
     "metadata": {},
     "output_type": "execute_result"
    }
   ],
   "source": [
    "regressao.fit(x_treinamento,y_treinamento)         #Recebendo o conjunto de dados para treinamento"
   ]
  },
  {
   "cell_type": "code",
   "execution_count": 104,
   "id": "collaborative-coverage",
   "metadata": {},
   "outputs": [],
   "source": [
    "adaptacao = regressao.score(x_treinamento,y_treinamento)    #Mensurando a adaptação.\n",
    "''''O valor da adaptação não pode ser muito alto, pois se isso acontece, você esta tendo um sobreajuste, logo, quando forem fornecidos\n",
    "outros valores de entrada, seu modelo terá menos capacidade de mensurar uma previsão mais adequada.\n",
    "''''"
   ]
  },
  {
   "cell_type": "code",
   "execution_count": 105,
   "id": "established-boards",
   "metadata": {},
   "outputs": [
    {
     "data": {
      "text/plain": [
       "0.6513196984594011"
      ]
     },
     "execution_count": 105,
     "metadata": {},
     "output_type": "execute_result"
    }
   ],
   "source": [
    "adaptacao"
   ]
  },
  {
   "cell_type": "code",
   "execution_count": 106,
   "id": "composed-magic",
   "metadata": {},
   "outputs": [
    {
     "data": {
      "text/plain": [
       "(242, 12)"
      ]
     },
     "execution_count": 106,
     "metadata": {},
     "output_type": "execute_result"
    }
   ],
   "source": [
    "x_teste.shape"
   ]
  },
  {
   "cell_type": "code",
   "execution_count": 107,
   "id": "incident-insured",
   "metadata": {},
   "outputs": [
    {
     "data": {
      "text/plain": [
       "(4, 12)"
      ]
     },
     "execution_count": 107,
     "metadata": {},
     "output_type": "execute_result"
    }
   ],
   "source": [
    "testando.shape"
   ]
  },
  {
   "cell_type": "code",
   "execution_count": 111,
   "id": "generous-advocacy",
   "metadata": {},
   "outputs": [],
   "source": [
    "previsao = regressao.predict(x_teste)      #prevendo valores de y para uma fração da base de dados"
   ]
  },
  {
   "cell_type": "code",
   "execution_count": 112,
   "id": "liked-medicine",
   "metadata": {},
   "outputs": [
    {
     "data": {
      "text/plain": [
       "array([ 1.60324278e-02,  3.00344192e-01,  7.91392538e-01,  5.90285359e-01,\n",
       "        1.12047844e+00, -3.11096838e-02,  8.31199047e-01,  8.06846020e-01,\n",
       "       -1.88695525e-03,  1.97285706e-01,  1.86173796e-01,  1.18196145e+00,\n",
       "       -5.97591746e-02, -1.02192603e-01,  8.14052884e-01, -3.71675599e-02,\n",
       "        7.49988697e-01,  6.36451005e-01,  1.22588706e+00,  8.27665011e-01,\n",
       "        8.68456133e-01,  7.81844359e-01,  2.59785851e-01,  8.15451481e-01,\n",
       "        4.34258182e-01,  2.35628505e-01,  2.77491387e-01,  8.28905601e-01,\n",
       "        3.22055129e-01,  5.86557593e-01,  6.84677991e-01,  5.61398385e-01,\n",
       "       -2.00271800e-01, -6.39945441e-02,  7.05021152e-01,  9.52891134e-01,\n",
       "        9.69450218e-01,  7.48023558e-01,  1.00476483e+00,  4.63613210e-01,\n",
       "        8.55122285e-01,  8.35127034e-01,  5.63249345e-01, -7.80501944e-02,\n",
       "        6.77717505e-01,  1.09207977e+00,  4.66739572e-01,  5.85185792e-01,\n",
       "        6.87114584e-01,  5.41615452e-01,  5.32654339e-01,  5.34066564e-01,\n",
       "        2.76387566e-01,  7.06139901e-01,  1.11195412e+00,  9.68204917e-01,\n",
       "        1.41470799e-01,  8.74782482e-01,  7.93554514e-01,  2.16387764e-01,\n",
       "        9.84921250e-01,  9.81029442e-01,  6.66450410e-02,  5.20523568e-01,\n",
       "        3.02591532e-01,  1.33449497e-01,  4.12362095e-01,  4.93915093e-01,\n",
       "        6.63737972e-01,  3.02242415e-01,  1.03371038e+00,  1.54745655e-01,\n",
       "        8.41347405e-01,  1.02413619e+00,  6.76111459e-01,  4.32385044e-01,\n",
       "        6.05465988e-01,  9.03045161e-01, -1.65253882e-01,  7.49002335e-01,\n",
       "        2.66848662e-01,  7.95160769e-01,  4.36692518e-01,  7.80535386e-01,\n",
       "        2.69423363e-01,  9.61472401e-01,  8.86665350e-01,  8.04047287e-01,\n",
       "        7.10581887e-01,  9.97219339e-01,  6.42350192e-01,  1.16623873e+00,\n",
       "        8.44151373e-01,  4.44363546e-01,  2.24051759e-01,  4.33171592e-01,\n",
       "        4.89754409e-01,  9.56088448e-01,  7.05708665e-01,  1.05632006e+00,\n",
       "       -4.70693104e-01,  5.55145891e-01,  4.06982472e-01,  2.34701511e-01,\n",
       "        7.31698922e-01,  1.01981368e+00,  7.55905809e-01,  6.77338711e-01,\n",
       "        9.61528143e-01, -4.66138601e-01,  3.88796636e-01,  7.31808256e-01,\n",
       "        1.17849802e+00,  9.41342649e-02,  7.21191205e-01,  6.69605629e-01,\n",
       "        8.22837557e-01,  8.65709826e-01,  5.24542448e-01,  1.13916388e+00,\n",
       "        7.94629103e-01,  2.57382344e-01,  4.22029823e-01,  3.86533588e-01,\n",
       "        4.52161627e-01, -9.70815841e-02,  1.12815051e+00,  1.97303436e-01,\n",
       "        6.17811724e-01,  1.95375179e-02,  6.21025441e-01,  7.53892890e-01,\n",
       "        1.31435786e+00,  6.05712365e-01,  9.73068622e-01,  3.50170536e-01,\n",
       "        2.49990146e-01,  8.00063581e-01,  5.62921821e-01,  9.44463842e-01,\n",
       "        1.03578366e+00,  3.76500303e-01,  7.15972871e-01,  6.65889800e-01,\n",
       "        9.36405231e-01,  1.62055885e-01,  6.41165358e-01,  6.35578745e-01,\n",
       "        7.21365927e-01,  6.70989893e-02,  6.26130403e-01,  2.25788522e-01,\n",
       "        3.04530733e-01,  3.93883548e-01,  4.86635942e-02,  9.54864622e-02,\n",
       "       -3.30288235e-02,  5.53637062e-01,  7.50119913e-01, -3.59147302e-01,\n",
       "        4.21397692e-01,  9.98355704e-01,  1.77933725e-01,  1.87084502e-01,\n",
       "       -1.82119558e-01,  1.03052950e+00,  1.07459687e+00,  4.10242269e-02,\n",
       "        1.88238900e-01,  1.01307445e+00,  2.89060261e-02,  5.76178828e-01,\n",
       "        6.68107850e-01,  8.97220219e-01,  4.06222410e-01,  2.92279201e-01,\n",
       "        3.51489944e-01, -2.68079158e-01,  4.37026203e-01,  1.03078937e+00,\n",
       "        1.09177264e-01,  4.87530364e-01,  7.62126618e-01,  8.30638888e-01,\n",
       "        2.98805125e-01,  1.11321656e+00,  9.70235241e-01,  7.10099442e-01,\n",
       "        4.19080647e-01,  8.31928658e-02,  1.25868666e+00,  7.36759951e-01,\n",
       "        1.18836533e+00,  9.02802675e-02,  1.15652993e+00,  9.02080910e-02,\n",
       "        7.32128014e-01,  4.34379722e-01,  5.64416318e-01,  3.98287815e-01,\n",
       "       -1.11684193e-01,  8.08844571e-01,  7.29575557e-01,  5.52809177e-01,\n",
       "        1.16837888e+00,  8.03216405e-01,  2.69130216e-01,  3.77823020e-04,\n",
       "        2.87867735e-01,  6.28607270e-01,  6.01842293e-01, -9.12711783e-02,\n",
       "        3.47622474e-01,  6.20106467e-01,  7.04881870e-01,  8.05164686e-01,\n",
       "        7.71102664e-01,  7.68796098e-01,  1.26772376e+00,  9.03430587e-01,\n",
       "        8.70034863e-01,  7.63778080e-01,  8.23888515e-01,  5.34462953e-01,\n",
       "        5.97529586e-01,  4.09309965e-01,  1.21445460e+00,  8.58698193e-01,\n",
       "        1.06228535e+00,  5.95678663e-01, -5.83871498e-01,  8.49574348e-01,\n",
       "        3.35384305e-01,  2.27469215e-01,  1.08992506e+00,  1.36138677e-01,\n",
       "        1.15800063e+00,  8.42769903e-01,  6.01258204e-01,  9.01874365e-01,\n",
       "        6.53322786e-01,  2.05002510e-01])"
      ]
     },
     "execution_count": 112,
     "metadata": {},
     "output_type": "execute_result"
    }
   ],
   "source": [
    "previsao"
   ]
  },
  {
   "cell_type": "code",
   "execution_count": 114,
   "id": "specified-behalf",
   "metadata": {},
   "outputs": [
    {
     "data": {
      "text/plain": [
       "array([0.70570867, 0.43317159, 0.8289056 , 0.68467799])"
      ]
     },
     "execution_count": 114,
     "metadata": {},
     "output_type": "execute_result"
    }
   ],
   "source": [
    "prever = regressao.predict(testando)\n",
    "prever\n",
    "#o resultado em ponto flutuante podemos denotar como a % de precisão de ter problemas no coração"
   ]
  },
  {
   "cell_type": "code",
   "execution_count": 130,
   "id": "natural-stylus",
   "metadata": {},
   "outputs": [
    {
     "data": {
      "text/plain": [
       "array([1, 1, 1, 1], dtype=int64)"
      ]
     },
     "execution_count": 130,
     "metadata": {},
     "output_type": "execute_result"
    }
   ],
   "source": [
    "real = data.iloc[0:4,13].values \n",
    "real\n",
    "#comparando, temos uma falha apenas no indice 1, onde temos 43% de chances de ter, entretanto o individuo tem problemas confirmados."
   ]
  },
  {
   "cell_type": "code",
   "execution_count": 117,
   "id": "collective-linux",
   "metadata": {},
   "outputs": [
    {
     "data": {
      "text/plain": [
       "0.3204322276908194"
      ]
     },
     "execution_count": 117,
     "metadata": {},
     "output_type": "execute_result"
    }
   ],
   "source": [
    "mae = mean_absolute_error(y_teste,previsao) # o MAE é um dos recursos utilizados para utilizar como parametro de eficiencia de modelo\n",
    "mae"
   ]
  },
  {
   "cell_type": "code",
   "execution_count": 118,
   "id": "peripheral-horror",
   "metadata": {},
   "outputs": [
    {
     "data": {
      "text/plain": [
       "0.1632877742000912"
      ]
     },
     "execution_count": 118,
     "metadata": {},
     "output_type": "execute_result"
    }
   ],
   "source": [
    "mse = mean_squared_error(y_teste,previsao) #o MSE é um dos recursos utilizados para utilizar como parametro de eficiencia de modelo\n",
    "mse"
   ]
  },
  {
   "cell_type": "markdown",
   "id": "complimentary-bacon",
   "metadata": {},
   "source": [
    "# Conclusão\n",
    "#### Podemos concluir, portanto, que a Regressão Linear é um algoritmo simples para previsões, baseando-se em comportamentos de atributos X resultando em Y. O resultado dessa demonstração de aplicação poderia ser bem melhor, caso a quantidade de dados fosse maior, então por muitas vezes deve-se priorizar a qualidade e quantidade de dados  quando se tem atributos suficientes para se validar uma consequência em Y. Por fim, espero que este notebook tenha sido claro o suficiente para você dismistificar a  regressão linear e desenvolver seus proprios códios de RL. "
   ]
  }
 ],
 "metadata": {
  "kernelspec": {
   "display_name": "Python 3",
   "language": "python",
   "name": "python3"
  },
  "language_info": {
   "codemirror_mode": {
    "name": "ipython",
    "version": 3
   },
   "file_extension": ".py",
   "mimetype": "text/x-python",
   "name": "python",
   "nbconvert_exporter": "python",
   "pygments_lexer": "ipython3",
   "version": "3.9.1"
  }
 },
 "nbformat": 4,
 "nbformat_minor": 5
}
